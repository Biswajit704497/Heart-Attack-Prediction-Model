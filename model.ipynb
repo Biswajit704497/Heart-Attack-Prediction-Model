{
 "cells": [
  {
   "cell_type": "code",
   "execution_count": 25,
   "id": "249a2366",
   "metadata": {},
   "outputs": [],
   "source": [
    "import pandas as pd\n",
    "from sklearn.linear_model import LinearRegression\n",
    "from sklearn.preprocessing import PolynomialFeatures"
   ]
  },
  {
   "cell_type": "code",
   "execution_count": 26,
   "id": "23805524",
   "metadata": {},
   "outputs": [],
   "source": [
    "dm = pd.read_csv(\"simplified_heart_attack_prediction_5_features.csv\")\n",
    "x = dm.iloc[:,:-2]\n",
    "y = dm.iloc[:,-2]\n",
    "model = LinearRegression()"
   ]
  },
  {
   "cell_type": "code",
   "execution_count": 27,
   "id": "43c397ac",
   "metadata": {},
   "outputs": [
    {
     "name": "stderr",
     "output_type": "stream",
     "text": [
      "c:\\Users\\biswa\\OneDrive\\Documents\\GitHub\\Heart-Attack-Prediction-Model\\ProjectEnv\\Lib\\site-packages\\sklearn\\utils\\validation.py:2749: UserWarning: X does not have valid feature names, but PolynomialFeatures was fitted with feature names\n",
      "  warnings.warn(\n"
     ]
    }
   ],
   "source": [
    "# Polynomial Regression Example\n",
    "poly_regs = PolynomialFeatures(degree=10)\n",
    "x_poly = poly_regs.fit_transform(x)\n",
    "model = LinearRegression()\n",
    "model.fit(x_poly, y)\n",
    "n = [[37, 58.10057499, 27.14864137, 157.4150308, 167.4655458]]\n",
    "n_poly = poly_regs.transform(n)\n",
    "y_pred = model.predict(n_poly)\n",
    "# print(y_pred)"
   ]
  },
  {
   "cell_type": "code",
   "execution_count": 28,
   "id": "a4c91060",
   "metadata": {},
   "outputs": [],
   "source": [
    "# import matplotlib.pyplot as plt\n",
    "# plt.scatter(x.iloc[:,0], y, color=\"blue\")\n",
    "# x_plot = poly_regs.transform(x)\n",
    "# y_plot = model.predict(x_plot)\n",
    "# plt.plot(x.iloc[:,0], y_plot, color=\"red\")\n",
    "# plt.title(\"Bluff detection model (Polynomial Regression)\")\n",
    "# plt.xlabel(\"Feature 1\")\n",
    "# plt.ylabel(\"Target\")\n",
    "# plt.show()"
   ]
  },
  {
   "cell_type": "code",
   "execution_count": 29,
   "id": "b75bda96",
   "metadata": {},
   "outputs": [
    {
     "data": {
      "text/plain": [
       "['polynomial_regression_model.joblib']"
      ]
     },
     "execution_count": 29,
     "metadata": {},
     "output_type": "execute_result"
    }
   ],
   "source": [
    "import joblib\n",
    "joblib.dump(model, 'polynomial_regression_model.joblib')"
   ]
  }
 ],
 "metadata": {
  "kernelspec": {
   "display_name": "ProjectEnv",
   "language": "python",
   "name": "python3"
  },
  "language_info": {
   "codemirror_mode": {
    "name": "ipython",
    "version": 3
   },
   "file_extension": ".py",
   "mimetype": "text/x-python",
   "name": "python",
   "nbconvert_exporter": "python",
   "pygments_lexer": "ipython3",
   "version": "3.13.4"
  }
 },
 "nbformat": 4,
 "nbformat_minor": 5
}
